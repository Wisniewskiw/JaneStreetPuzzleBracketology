{
 "cells": [
  {
   "cell_type": "code",
   "execution_count": 17,
   "metadata": {},
   "outputs": [],
   "source": [
    "import IPython.display\n",
    "import numpy as np"
   ]
  },
  {
   "cell_type": "markdown",
   "metadata": {},
   "source": [
    "<img src=\"bracket.png\">"
   ]
  },
  {
   "cell_type": "markdown",
   "metadata": {},
   "source": [
    "There’s a certain insanity in the air this time of the year that gets us thinking about tournament brackets. Consider a tournament with 16 competitors, seeded 1-16, and arranged in the single-elimination bracket pictured above (identical to a “region” of the NCAA Division 1 basketball tournament). Assume that when the X-seed plays the Y-seed, the X-seed has a Y/(X+Y) probability of winning. E.g. in the first round, the 5-seed has a 12/17 chance of beating the 12-seed.\n",
    "\n",
    "Suppose the 2-seed has the chance to secretly swap two teams’ placements in the bracket before the tournament begins. So, for example, say they choose to swap the 8- and 16-seeds. Then the 8-seed would play their first game against the 1-seed and have a 1/9 chance of advancing to the next round, and the 16-seed would play their first game against the 9-seed and have a 9/25 chance of advancing.\n",
    "\n",
    "What seeds should the 2-seed swap to maximize their (the 2-seed’s) probability of winning the tournament, and how much does the swap increase that probability? Give your answer to six significant figures.\n"
   ]
  },
  {
   "cell_type": "code",
   "execution_count": 18,
   "metadata": {},
   "outputs": [],
   "source": [
    "class Node:\n",
    "    def __init__(self, key):\n",
    "        self.key = key\n",
    "        self.right = None\n",
    "        self.left = None\n",
    "\n",
    "class JS_Bracketology:\n",
    "    def __init__(self, player):\n",
    "        assert (player <= 16) and (player >0) and isinstance(player, int)\n",
    "        self.n = 16\n",
    "        self.m = int(self.n / 2)\n",
    "        self.player = player\n",
    "        self.l = [1, 16, 8, 9, 5, 12, 4, 13, 6, 11, 3, 14, 7, 10, 2, 15]\n",
    "        self.ll = [1, 16, 8, 9, 5, 12, 4, 13, 6, 11, 3, 14, 7, 10, 2, 15]\n",
    "        self.playeridx = self.l.index(player)\n",
    "\n",
    "        self.out = {}\n",
    "\n",
    "    def proba(self, a, b):\n",
    "        return b / (a + b)\n",
    "\n",
    "    def f(self, x, y, i):\n",
    "        l = y[i].key['L']\n",
    "        r = y[i].key['R']\n",
    "        s = [a for a in [*x[2 * i + 1].key] if isinstance(a, int)]\n",
    "        q = [a for a in [*x[2 * i].key] if isinstance(a, int)]\n",
    "        \n",
    "        for a in l:\n",
    "            y[i].key[a] = x[2 * i].key[a] * sum([x[2 * i + 1].key[k] * self.proba(a, k) for k in s])\n",
    "        for a in r:\n",
    "            y[i].key[a] = x[2 * i + 1].key[a] * sum([x[2 * i].key[k] * self.proba(a, k) for k in q])\n",
    "\n",
    "    def succes_probas(self):\n",
    "        self.x = [Node(\n",
    "                {self.l[2 * i]: self.proba(self.l[2 * i], self.l[2 * i + 1]),\n",
    "                self.l[2 * i + 1]: self.proba(self.l[2 * i + 1], self.l[2 * i])}\n",
    "                ) for i in  range(int(len(self.l) / 2))]\n",
    "        \n",
    "        self.y = [Node({'L': [*self.x[2 * i].key],\n",
    "                        'R': [*self.x[2 * i + 1].key]}) \n",
    "                  for i in range(int(len(self.l) / 4))]\n",
    "\n",
    "        for i in range(len(self.y)):\n",
    "            self.f(self.x, self.y, i)\n",
    "            \n",
    "        z = [Node({'L': self.y[2 * i].key['L'] + self.y[2 * i].key['R'],\n",
    "                   'R': self.y[2 * i + 1].key['L'] + self.y[2 * i + 1].key['R']}) \n",
    "             for i in range(int(len(self.l) / 8))]\n",
    "        \n",
    "        for i in range(len(z)):\n",
    "            self.f(self.y, z, i)\n",
    "            \n",
    "        aa = [Node({'L': z[2 * i].key['L'] + z[2 * i].key['R'], \n",
    "                    'R': z[2 * i + 1].key['L'] + z[2 * i + 1].key['R']})\n",
    "              for i in range(int(len(self.l) / 16))]\n",
    "        \n",
    "        for i in range(len(aa)):\n",
    "            self.f(z, aa, i)\n",
    "\n",
    "        self.out[tuple(self.l)] = aa[0].key[self.player]\n",
    "        del z, aa, self.x, self.y\n",
    "\n",
    "    def relace_and_run(self, index_from, index_to):\n",
    "        self.l = self.ll.copy()\n",
    "        tmp = self.l[index_from]\n",
    "        self.l[index_from] = self.l[index_to]\n",
    "        self.l[index_to] = tmp\n",
    "        self.succes_probas()\n",
    "\n",
    "    def run(self):\n",
    "        self.succes_probas()\n",
    "        for i in  (range(self.m )):\n",
    "            for j in range(i + 1, self.m):\n",
    "                self.relace_and_run(2 * i, 2 * j)\n",
    "                self.relace_and_run(2 * i, 2 * j + 1)\n",
    "                self.relace_and_run(2 * i + 1, 2 * j)\n",
    "                self.relace_and_run(2 * i + 1, 2 * j + 1)\n",
    "\n",
    "        d = sorted(self.out.items(), key=lambda x: x[1])\n",
    "        print('Optimal swap proba of player:', self.player, ' wins is', d[-1][1])\n",
    "        print('Initial game proba of player:', self.player, ' wins is', self.out[tuple(game.ll)])\n",
    "        print('Proba gain:', d[-1][1] - self.out[tuple(game.ll)])\n",
    "        tmp=np.array(d[-1][0])-np.array(self.ll)\n",
    "        ind=np.where(tmp!=0)\n",
    "        print('Tournament initial allure',self.ll )\n",
    "        print('Tournament allure',d[-1][0] )\n",
    "        print('The swap :', np.array(self.ll)[ind] )"
   ]
  },
  {
   "cell_type": "code",
   "execution_count": 19,
   "metadata": {},
   "outputs": [
    {
     "name": "stdout",
     "output_type": "stream",
     "text": [
      "Optimal swap proba of player: 2  wins is 0.2816191915195929\n",
      "Initial game proba of player: 2  wins is 0.2160396878170165\n",
      "Proba gain: 0.06557950370257642\n",
      "Tournament initial allure [1, 16, 8, 9, 5, 12, 4, 13, 6, 11, 3, 14, 7, 10, 2, 15]\n",
      "Tournament allure (1, 3, 8, 9, 5, 12, 4, 13, 6, 11, 16, 14, 7, 10, 2, 15)\n",
      "The swap : [16  3]\n",
      "Wall time: 19.7 ms\n"
     ]
    }
   ],
   "source": [
    "%%time\n",
    "game=JS_Bracketology(2)\n",
    "game.run()"
   ]
  },
  {
   "cell_type": "code",
   "execution_count": null,
   "metadata": {},
   "outputs": [],
   "source": []
  }
 ],
 "metadata": {
  "kernelspec": {
   "display_name": "Python 3",
   "language": "python",
   "name": "python3"
  },
  "language_info": {
   "codemirror_mode": {
    "name": "ipython",
    "version": 3
   },
   "file_extension": ".py",
   "mimetype": "text/x-python",
   "name": "python",
   "nbconvert_exporter": "python",
   "pygments_lexer": "ipython3",
   "version": "3.6.4"
  }
 },
 "nbformat": 4,
 "nbformat_minor": 2
}
